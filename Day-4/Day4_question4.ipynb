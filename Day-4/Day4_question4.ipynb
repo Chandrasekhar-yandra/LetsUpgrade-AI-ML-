{
 "cells": [
  {
   "cell_type": "code",
   "execution_count": 6,
   "metadata": {},
   "outputs": [
    {
     "name": "stdout",
     "output_type": "stream",
     "text": [
      "Result of number 2  modulo value is zero and output: 2\n",
      "Result of number 4  modulo value is zero and output: 14\n",
      "Result of number 6  modulo value is zero and output: 34\n",
      "Result of number 8  modulo value is zero and output: 62\n"
     ]
    }
   ],
   "source": [
    "#Question 4:\n",
    "\n",
    "for numbers in range(1,10) :\n",
    "    if ((numbers % 2) == 0):\n",
    "        output = (numbers**2) -2\n",
    "        print(\"Result of number\",numbers,\" modulo value is zero and output:\", output)"
   ]
  },
  {
   "cell_type": "code",
   "execution_count": null,
   "metadata": {},
   "outputs": [],
   "source": []
  }
 ],
 "metadata": {
  "kernelspec": {
   "display_name": "Python 3",
   "language": "python",
   "name": "python3"
  },
  "language_info": {
   "codemirror_mode": {
    "name": "ipython",
    "version": 3
   },
   "file_extension": ".py",
   "mimetype": "text/x-python",
   "name": "python",
   "nbconvert_exporter": "python",
   "pygments_lexer": "ipython3",
   "version": "3.8.3rc1"
  }
 },
 "nbformat": 4,
 "nbformat_minor": 4
}
