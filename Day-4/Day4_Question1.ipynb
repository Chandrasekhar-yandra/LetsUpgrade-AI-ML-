{
 "cells": [
  {
   "cell_type": "markdown",
   "metadata": {},
   "source": [
    "# Question 1:\n",
    "# Research information-\n",
    "1. Operations performed on complex numbers by python3 - addition, subtraction, multiplication and division\n",
    "2. operations not  supported on complex numbers by python3 - floor division and modulo"
   ]
  },
  {
   "cell_type": "code",
   "execution_count": 3,
   "metadata": {},
   "outputs": [
    {
     "name": "stdout",
     "output_type": "stream",
     "text": [
      "Input complex number1:\n",
      "5+7j\n",
      "Input complex number2:\n",
      "6+8j\n",
      "Addition of two complex numbers :  (11+15j)\n",
      "Subtraction of two complex numbers :  (-1-1j)\n",
      "Multiplication of two complex numbers :  (-26+82j)\n",
      "Division of two complex numbers :  (0.86+0.02j)\n"
     ]
    }
   ],
   "source": [
    "print(\"Input complex number1:\")\n",
    "complexnumber1 = complex(input())\n",
    "print(\"Input complex number2:\")\n",
    "complexnumber2 = complex(input())\n",
    "print(\"Addition of two complex numbers : \",(complexnumber1)+(complexnumber2))\n",
    "print(\"Subtraction of two complex numbers : \",(complexnumber1)-(complexnumber2))\n",
    "print(\"Multiplication of two complex numbers : \",(complexnumber1)*(complexnumber2))\n",
    "print(\"Division of two complex numbers : \",(complexnumber1)/(complexnumber2))"
   ]
  },
  {
   "cell_type": "code",
   "execution_count": null,
   "metadata": {},
   "outputs": [],
   "source": []
  }
 ],
 "metadata": {
  "kernelspec": {
   "display_name": "Python 3",
   "language": "python",
   "name": "python3"
  },
  "language_info": {
   "codemirror_mode": {
    "name": "ipython",
    "version": 3
   },
   "file_extension": ".py",
   "mimetype": "text/x-python",
   "name": "python",
   "nbconvert_exporter": "python",
   "pygments_lexer": "ipython3",
   "version": "3.8.3rc1"
  }
 },
 "nbformat": 4,
 "nbformat_minor": 4
}
