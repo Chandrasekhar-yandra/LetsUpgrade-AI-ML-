{
 "cells": [
  {
   "cell_type": "code",
   "execution_count": 10,
   "metadata": {},
   "outputs": [
    {
     "name": "stdout",
     "output_type": "stream",
     "text": [
      "Enter first integer value\n",
      "65\n",
      "Enter second integer value\n",
      "7\n",
      "The multiplication result of two number:  455\n"
     ]
    }
   ],
   "source": [
    "#Question 3:\n",
    "print(\"Enter first integer value\")\n",
    "integer1 = int(input())\n",
    "print(\"Enter second integer value\")\n",
    "integer2 = int(input())\n",
    "subtraction = integer2 - integer1\n",
    "if (abs(subtraction)) > 25:\n",
    "    multiply = integer1 * integer2\n",
    "    print(\"The multiplication result of two number: \", multiply)\n",
    "else:\n",
    "    division = integer2 / integer1\n",
    "    print(\"The division result of two number: \", division)"
   ]
  }
 ],
 "metadata": {
  "kernelspec": {
   "display_name": "Python 3",
   "language": "python",
   "name": "python3"
  },
  "language_info": {
   "codemirror_mode": {
    "name": "ipython",
    "version": 3
   },
   "file_extension": ".py",
   "mimetype": "text/x-python",
   "name": "python",
   "nbconvert_exporter": "python",
   "pygments_lexer": "ipython3",
   "version": "3.8.3rc1"
  }
 },
 "nbformat": 4,
 "nbformat_minor": 4
}
