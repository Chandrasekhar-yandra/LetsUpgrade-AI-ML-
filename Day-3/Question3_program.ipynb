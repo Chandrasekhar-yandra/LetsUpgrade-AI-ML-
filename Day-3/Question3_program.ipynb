{
 "cells": [
  {
   "cell_type": "code",
   "execution_count": 5,
   "metadata": {},
   "outputs": [
    {
     "name": "stdout",
     "output_type": "stream",
     "text": [
      "Input first number:\n",
      "3+4j\n",
      "Input second number:\n",
      "8+5j\n",
      "The swapped number: 8+5j 3+4j\n"
     ]
    }
   ],
   "source": [
    "#Question 3:Write a program to swap two numbers in Python with the help of a temporary variable.\n",
    "#Program:\n",
    "\n",
    "print(\"Input first number:\")\n",
    "number1= input()\n",
    "print(\"Input second number:\")\n",
    "number2= input()\n",
    "tempvariable = number1\n",
    "number1 = number2\n",
    "number2 = tempvariable\n",
    "print(\"The swapped number:\",number1,number2)\n",
    "\n"
   ]
  }
 ],
 "metadata": {
  "kernelspec": {
   "display_name": "Python 3",
   "language": "python",
   "name": "python3"
  },
  "language_info": {
   "codemirror_mode": {
    "name": "ipython",
    "version": 3
   },
   "file_extension": ".py",
   "mimetype": "text/x-python",
   "name": "python",
   "nbconvert_exporter": "python",
   "pygments_lexer": "ipython3",
   "version": "3.8.3rc1"
  }
 },
 "nbformat": 4,
 "nbformat_minor": 4
}
