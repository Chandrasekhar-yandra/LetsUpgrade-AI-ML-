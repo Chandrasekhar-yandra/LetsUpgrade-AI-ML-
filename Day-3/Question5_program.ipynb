{
 "cells": [
  {
   "cell_type": "code",
   "execution_count": 3,
   "metadata": {},
   "outputs": [
    {
     "name": "stdout",
     "output_type": "stream",
     "text": [
      "Enter Temperature in Fahrenheit value:\n",
      "98\n",
      "The Temperature value in celsius: 36.666666666666664\n",
      "The Temperature value in Kelvin: 391.95\n"
     ]
    }
   ],
   "source": [
    "#Question 5:Write a program to convert fahrenheit to kelvin and celsius both.\n",
    "\n",
    "print(\"Enter Temperature in Fahrenheit value:\")\n",
    "Fahrenheit = float(input())\n",
    "celsius = ((Fahrenheit - 32)/1.80)\n",
    "Kelvin = ((1.8*(Fahrenheit - 32)) + 273.15)\n",
    "print(\"The Temperature value in celsius:\",celsius)\n",
    "print(\"The Temperature value in Kelvin:\", Kelvin)"
   ]
  },
  {
   "cell_type": "code",
   "execution_count": null,
   "metadata": {},
   "outputs": [],
   "source": []
  }
 ],
 "metadata": {
  "kernelspec": {
   "display_name": "Python 3",
   "language": "python",
   "name": "python3"
  },
  "language_info": {
   "codemirror_mode": {
    "name": "ipython",
    "version": 3
   },
   "file_extension": ".py",
   "mimetype": "text/x-python",
   "name": "python",
   "nbconvert_exporter": "python",
   "pygments_lexer": "ipython3",
   "version": "3.8.3rc1"
  }
 },
 "nbformat": 4,
 "nbformat_minor": 4
}
