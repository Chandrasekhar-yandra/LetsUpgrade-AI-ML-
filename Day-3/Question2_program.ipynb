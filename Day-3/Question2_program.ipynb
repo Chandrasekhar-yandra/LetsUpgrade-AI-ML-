{
 "cells": [
  {
   "cell_type": "code",
   "execution_count": 5,
   "metadata": {},
   "outputs": [
    {
     "name": "stdout",
     "output_type": "stream",
     "text": [
      "Enter the number\n",
      "89\n",
      "Fourth root of the number is: 3.0714786556407327\n"
     ]
    }
   ],
   "source": [
    "#Question 2 :Write a program to find the fourth root of a number\n",
    "#program:\n",
    "print(\"Enter the number\")\n",
    "number = float(input())\n",
    "root = 4\n",
    "Rootvalue = number**(1/4)\n",
    "print(\"Fourth root of the number is:\",Rootvalue)\n",
    "\n",
    "\n"
   ]
  }
 ],
 "metadata": {
  "kernelspec": {
   "display_name": "Python 3",
   "language": "python",
   "name": "python3"
  },
  "language_info": {
   "codemirror_mode": {
    "name": "ipython",
    "version": 3
   },
   "file_extension": ".py",
   "mimetype": "text/x-python",
   "name": "python",
   "nbconvert_exporter": "python",
   "pygments_lexer": "ipython3",
   "version": "3.8.3rc1"
  }
 },
 "nbformat": 4,
 "nbformat_minor": 4
}
