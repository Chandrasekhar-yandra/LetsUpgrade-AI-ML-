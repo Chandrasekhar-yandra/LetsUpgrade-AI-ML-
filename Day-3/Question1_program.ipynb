{
 "cells": [
  {
   "cell_type": "code",
   "execution_count": 7,
   "metadata": {},
   "outputs": [
    {
     "name": "stdout",
     "output_type": "stream",
     "text": [
      "Input complex1 value:\n",
      "5+7j\n",
      "Input complex2 value:\n",
      "8+9j\n",
      "The subtract value of two complex numbers:  (3+2j)\n"
     ]
    }
   ],
   "source": [
    "#Question 1 :Write a program to subtract two complex numbers in Python\n",
    "#program:\n",
    "print(\"Input complex1 value:\")\n",
    "complex1= complex(input())\n",
    "print(\"Input complex2 value:\")\n",
    "complex2= complex(input())\n",
    "complex3= complex2 - complex1\n",
    "print(\"The subtract value of two complex numbers: \", complex3)"
   ]
  }
 ],
 "metadata": {
  "kernelspec": {
   "display_name": "Python 3",
   "language": "python",
   "name": "python3"
  },
  "language_info": {
   "codemirror_mode": {
    "name": "ipython",
    "version": 3
   },
   "file_extension": ".py",
   "mimetype": "text/x-python",
   "name": "python",
   "nbconvert_exporter": "python",
   "pygments_lexer": "ipython3",
   "version": "3.8.3rc1"
  }
 },
 "nbformat": 4,
 "nbformat_minor": 4
}
